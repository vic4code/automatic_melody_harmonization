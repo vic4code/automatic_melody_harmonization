{
 "cells": [
  {
   "cell_type": "code",
   "execution_count": 1,
   "metadata": {},
   "outputs": [],
   "source": [
    "import numpy as np\n",
    "import pypianoroll as pr\n",
    "import pickle\n",
    "from tqdm import tqdm"
   ]
  },
  {
   "cell_type": "code",
   "execution_count": 3,
   "metadata": {},
   "outputs": [],
   "source": [
    "import os\n",
    "os.chdir('..')"
   ]
  },
  {
   "cell_type": "code",
   "execution_count": 4,
   "metadata": {},
   "outputs": [
    {
     "data": {
      "text/plain": [
       "'/mnt/md1/user_victor/automatic_melody_harmonization'"
      ]
     },
     "execution_count": 4,
     "metadata": {},
     "output_type": "execute_result"
    }
   ],
   "source": [
    "pwd"
   ]
  },
  {
   "cell_type": "code",
   "execution_count": 5,
   "metadata": {},
   "outputs": [],
   "source": [
    "from metrics import CHE_and_CC, CTD, CTnCTR, PCS, MCTD"
   ]
  },
  {
   "cell_type": "code",
   "execution_count": 6,
   "metadata": {},
   "outputs": [],
   "source": [
    "# melody = np.load('./data/melody_baseline.npy')\n",
    "chord_onehot = np.load('./data/onehot_96.npy')\n",
    "length = np.load('./data/length.npy')"
   ]
  },
  {
   "cell_type": "code",
   "execution_count": 8,
   "metadata": {},
   "outputs": [
    {
     "name": "stderr",
     "output_type": "stream",
     "text": [
      "100%|██████████| 17430/17430 [00:06<00:00, 2810.68it/s]\n"
     ]
    }
   ],
   "source": [
    "n = len(chord_onehot)\n",
    "\n",
    "CHE_ = []\n",
    "CC_ = []\n",
    "# CTD_ = []\n",
    "# CTnTCR_ = []\n",
    "# PCS_ = []\n",
    "# MCTD_ = []\n",
    "\n",
    "for i in tqdm(range(n)):\n",
    "    chord_part = chord_onehot[i][:length[i]]\n",
    "#     melody_part = melody[i][:length[i]]\n",
    "\n",
    "    che, cc = CHE_and_CC(chord_part, chord_num=96)\n",
    "#     ctd = CTD(chord_part, chord_num=96)\n",
    "#     ctnctr = CTnCTR(melody_part, chord_part, chord_num=96)\n",
    "#     pcs = PCS(melody_part, chord_part, chord_num=96)\n",
    "#     mctd = MCTD(melody_part, chord_part, chord_num=96)\n",
    "    \n",
    "    CHE_.append(che)\n",
    "    CC_.append(cc)\n",
    "#     CTD_.append(ctd)\n",
    "#     CTnTCR_.append(ctnctr)\n",
    "#     PCS_.append(pcs)\n",
    "#     MCTD_.append(mctd)\n",
    "    \n",
    "CHE_ = np.array(CHE_)\n",
    "CC_ = np.array(CC_)\n",
    "# CTD_ = np.array(CTD)\n",
    "# CTnTCR_ = np.array(CTnTCR)\n",
    "# PCS_ = np.array(PCS)\n",
    "# MCTD_ = np.array(MCTD)\n",
    "\n",
    "np.save('./data/CHE',CHE_)\n",
    "np.save('./data/CC',CC_)\n",
    "# np.save('./data/CTD',CTD_)\n",
    "# np.save('./data/CTnTCR',CTnTCR_)\n",
    "# np.save('./data/PCS',PCS_)\n",
    "# np.save('./data/MCTD',MCTD_)\n",
    "\n",
    "    \n"
   ]
  },
  {
   "cell_type": "code",
   "execution_count": 9,
   "metadata": {},
   "outputs": [],
   "source": [
    "che = np.load('./data/CHE.npy')"
   ]
  },
  {
   "cell_type": "code",
   "execution_count": 12,
   "metadata": {},
   "outputs": [
    {
     "data": {
      "text/plain": [
       "3.3295066201257257"
      ]
     },
     "execution_count": 12,
     "metadata": {},
     "output_type": "execute_result"
    }
   ],
   "source": [
    "che.max()"
   ]
  },
  {
   "cell_type": "code",
   "execution_count": null,
   "metadata": {},
   "outputs": [],
   "source": []
  }
 ],
 "metadata": {
  "kernelspec": {
   "display_name": "Python 3",
   "language": "python",
   "name": "python3"
  },
  "language_info": {
   "codemirror_mode": {
    "name": "ipython",
    "version": 3
   },
   "file_extension": ".py",
   "mimetype": "text/x-python",
   "name": "python",
   "nbconvert_exporter": "python",
   "pygments_lexer": "ipython3",
   "version": "3.7.9"
  }
 },
 "nbformat": 4,
 "nbformat_minor": 4
}
