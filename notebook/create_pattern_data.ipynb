{
 "cells": [
  {
   "cell_type": "code",
   "execution_count": 1,
   "metadata": {},
   "outputs": [],
   "source": [
    "import os\n",
    "os.chdir('..')"
   ]
  },
  {
   "cell_type": "code",
   "execution_count": 2,
   "metadata": {},
   "outputs": [
    {
     "data": {
      "text/plain": [
       "'/mnt/md1/user_victor/automatic_melody_harmonization'"
      ]
     },
     "execution_count": 2,
     "metadata": {},
     "output_type": "execute_result"
    }
   ],
   "source": [
    "pwd"
   ]
  },
  {
   "cell_type": "code",
   "execution_count": 3,
   "metadata": {},
   "outputs": [],
   "source": [
    "from pattern_scratch import SIA, find_beats\n",
    "import numpy as np"
   ]
  },
  {
   "cell_type": "code",
   "execution_count": 4,
   "metadata": {},
   "outputs": [],
   "source": [
    "# arr = [40, 40, 0, 0, 1, 1, 2, 3, 40, 40, 0, 0, 40, 40, 0, 0, 40, 40, 0, 0, 0]\n",
    "# arr = [4, 0, 10, 2, 3, 5, 2, 3, 8, 9, 10, 0, 1, 6, 3, 7, 48, 8, 4, 5, 8]\n",
    "arr = [4, 4, 2, 2, 3, 3, 3, 3, 5, 5, 5, 5, 5, 6, 6, 6, 3, 4, 4, 5, 8]"
   ]
  },
  {
   "cell_type": "code",
   "execution_count": 5,
   "metadata": {},
   "outputs": [
    {
     "name": "stdout",
     "output_type": "stream",
     "text": [
      "[2, 2, 4, 5, 3, 1, 2, 1, 1]\n"
     ]
    }
   ],
   "source": [
    "beats = find_beats(arr)\n",
    "print(beats)"
   ]
  },
  {
   "cell_type": "code",
   "execution_count": 6,
   "metadata": {},
   "outputs": [],
   "source": [
    "beats_seq = [[sum(beats[:i+1]),1] for i in range(len(beats))]\n"
   ]
  },
  {
   "cell_type": "code",
   "execution_count": 7,
   "metadata": {},
   "outputs": [
    {
     "data": {
      "text/plain": [
       "[[2, 1], [4, 1], [8, 1], [13, 1], [16, 1], [17, 1], [19, 1], [20, 1], [21, 1]]"
      ]
     },
     "execution_count": 7,
     "metadata": {},
     "output_type": "execute_result"
    }
   ],
   "source": [
    "beats_seq"
   ]
  },
  {
   "cell_type": "code",
   "execution_count": 8,
   "metadata": {},
   "outputs": [],
   "source": [
    "pattern = SIA(beats_seq)"
   ]
  },
  {
   "cell_type": "code",
   "execution_count": 9,
   "metadata": {},
   "outputs": [],
   "source": [
    "#pattern.table"
   ]
  },
  {
   "cell_type": "code",
   "execution_count": 10,
   "metadata": {},
   "outputs": [
    {
     "data": {
      "text/plain": [
       "{'[2, 0]': 3,\n",
       " '[6, 0]': 2,\n",
       " '[11, 0]': 2,\n",
       " '[14, 0]': 1,\n",
       " '[15, 0]': 2,\n",
       " '[17, 0]': 2,\n",
       " '[18, 0]': 1,\n",
       " '[19, 0]': 1,\n",
       " '[4, 0]': 4,\n",
       " '[9, 0]': 2,\n",
       " '[12, 0]': 2,\n",
       " '[13, 0]': 2,\n",
       " '[16, 0]': 1,\n",
       " '[5, 0]': 2,\n",
       " '[8, 0]': 2,\n",
       " '[3, 0]': 3,\n",
       " '[7, 0]': 1,\n",
       " '[1, 0]': 3}"
      ]
     },
     "execution_count": 10,
     "metadata": {},
     "output_type": "execute_result"
    }
   ],
   "source": [
    "pattern.count_dict"
   ]
  },
  {
   "cell_type": "code",
   "execution_count": 11,
   "metadata": {},
   "outputs": [
    {
     "data": {
      "text/plain": [
       "(4, 0.5)"
      ]
     },
     "execution_count": 11,
     "metadata": {},
     "output_type": "execute_result"
    }
   ],
   "source": [
    "pattern.max_pattern()"
   ]
  },
  {
   "cell_type": "code",
   "execution_count": 12,
   "metadata": {},
   "outputs": [],
   "source": [
    "# Load chord sequence data\n",
    "chord = np.load('./number_96.npy')\n",
    "length = np.load('./length.npy')\n"
   ]
  },
  {
   "cell_type": "code",
   "execution_count": 19,
   "metadata": {},
   "outputs": [
    {
     "name": "stdout",
     "output_type": "stream",
     "text": [
      "r_pitch (17430,)\n",
      "r_rythm (17430,)\n"
     ]
    }
   ],
   "source": [
    "r_pitch = []\n",
    "r_rhythm = []\n",
    "n = len(chord)\n",
    "\n",
    "for i in range(n):\n",
    "#     print(i)\n",
    "    # Pitch pattern\n",
    "    chord_seq = chord[i][:length[i]].flatten().tolist()\n",
    "    input_chord_seq = [[i,chord_seq[i]] for i in range(len(chord_seq))]\n",
    "    \n",
    "    pitch_pattern = SIA(input_chord_seq)\n",
    "    r_pitch.append(pitch_pattern.max_pattern()[1])\n",
    "#     print('r_pitch',pitch_pattern.max_pattern()[1])\n",
    "    \n",
    "    # Rhythm pattern\n",
    "    beat_seq = find_beats(chord_seq)\n",
    "    input_beat_seq = [[sum(beat_seq[:i+1]),1] for i in range(len(beat_seq))]\n",
    "    \n",
    "    rhythm_pattern = SIA(input_beat_seq)\n",
    "    r_rhythm.append(rhythm_pattern.max_pattern()[1])\n",
    "#     print('r_rythm',rhythm_pattern.max_pattern()[1])\n",
    "\n",
    "r_pitch = np.array(r_pitch)\n",
    "r_rhythm = np.array(r_rhythm)\n",
    "\n",
    "np.save('pitch_pattern_ratio',r_pitch)\n",
    "np.save('rhythm_pattern_ratio',r_rhythm)\n",
    "\n",
    "print('r_pitch',r_pitch.shape)\n",
    "print('r_rythm',r_rhythm.shape)\n",
    "\n"
   ]
  }
 ],
 "metadata": {
  "kernelspec": {
   "display_name": "Python 3",
   "language": "python",
   "name": "python3"
  },
  "language_info": {
   "codemirror_mode": {
    "name": "ipython",
    "version": 3
   },
   "file_extension": ".py",
   "mimetype": "text/x-python",
   "name": "python",
   "nbconvert_exporter": "python",
   "pygments_lexer": "ipython3",
   "version": "3.7.9"
  }
 },
 "nbformat": 4,
 "nbformat_minor": 4
}
