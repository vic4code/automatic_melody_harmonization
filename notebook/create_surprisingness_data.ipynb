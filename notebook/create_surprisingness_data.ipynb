{
 "cells": [
  {
   "cell_type": "code",
   "execution_count": 1,
   "metadata": {},
   "outputs": [],
   "source": [
    "import os\n",
    "os.chdir('..')"
   ]
  },
  {
   "cell_type": "code",
   "execution_count": 40,
   "metadata": {},
   "outputs": [
    {
     "data": {
      "text/plain": [
       "'/mnt/md1/user_victor/automatic_melody_harmonization'"
      ]
     },
     "execution_count": 40,
     "metadata": {},
     "output_type": "execute_result"
    }
   ],
   "source": [
    "pwd"
   ]
  },
  {
   "cell_type": "code",
   "execution_count": 3,
   "metadata": {},
   "outputs": [],
   "source": [
    "from tonal import pianoroll2number, joint_prob2pianoroll96\n",
    "from tonal import tonal_centroid, chord482note, chord962note, note2number\n",
    "import numpy as np\n",
    "import torch\n",
    "from torch.utils.data import DataLoader, Dataset\n",
    "import torch.nn as nn\n",
    "import torch.nn.functional as F\n",
    "import torch.optim as optim\n",
    "from torch.nn.utils.rnn import pack_padded_sequence, pad_packed_sequence\n",
    "import pickle\n",
    "# from model.CVAE_lstm_decoder import CVAE\n",
    "# from model.CTDCVAE_lstm_decoder_conv_prenet import CVAE\n",
    "from decode import *\n",
    "import matplotlib.pyplot as plt\n",
    "from tqdm import tqdm"
   ]
  },
  {
   "cell_type": "code",
   "execution_count": 4,
   "metadata": {},
   "outputs": [],
   "source": [
    "# melody_framewise = np.load('./data/melody_data.npy')\n",
    "# chord_groundtruth_idx = np.load('./data/chord_groundtruth.npy')\n",
    "\n",
    "# melody = np.load('./data/melody_baseline.npy')\n",
    "chord_seqs = np.load('./data/number_96.npy')\n",
    "# chord_onehot = np.load('./data/onehot_96.npy')\n",
    "length = np.load('./data/length.npy')\n",
    "\n",
    "# f = open('./data/tempos', 'rb')\n",
    "# tempos = pickle.load(f)\n",
    "# f.close()\n",
    "# f = open('./data/downbeats', 'rb')\n",
    "# downbeats = pickle.load(f)\n",
    "# f.close()"
   ]
  },
  {
   "cell_type": "code",
   "execution_count": 49,
   "metadata": {},
   "outputs": [],
   "source": [
    "## Markov chain\n",
    "class markov_chain(): \n",
    "    def __init__(self,chord_seqs,states = [x for x in range(96)]):\n",
    "        \n",
    "        self.chord_seqs = chord_seqs\n",
    "        self.states = states\n",
    "        self.num_state = len(states) #number of states\n",
    "        self.M = [[0]*self.num_state for _ in range(self.num_state)]\n",
    "    \n",
    "    # Input one seq\n",
    "    def transition_probability(self,seq):\n",
    "#         M = [[0]*self.num_state for _ in range(self.num_state)]\n",
    "        \n",
    "        # Convert seq to index seq\n",
    "        index_seq = [self.states.index(i) for i in seq]\n",
    "       \n",
    "        for (i,j) in zip(index_seq,index_seq[1:]):\n",
    "            self.M[i][j] += 1\n",
    "\n",
    "        #now convert to probabilities:\n",
    "        for row in self.M:\n",
    "            s = sum(row)\n",
    "            if s > 0:\n",
    "                row[:] = [f/s for f in row]\n",
    "    \n",
    "    # Input one seq\n",
    "    def create_transition_matrix_by_one_seq(self,seq):\n",
    "        self.transition_probability(seq)\n",
    "        return np.array(self.M)\n",
    "    \n",
    "    # Input seqs\n",
    "    def create_transition_matrix_by_many_seqs(self):\n",
    "        for seq in self.chord_seqs:\n",
    "            self.transition_probability(seq)\n",
    "        return np.array(self.M)\n",
    "    \n",
    "    # Input one seq\n",
    "    def calculate_surprisingness(self,seq,t,TM):\n",
    "        \n",
    "        current = seq[t]\n",
    "        i_ = self.states.index(current)\n",
    "\n",
    "        previous = seq[t - 1]\n",
    "        j_ = self.states.index(previous)\n",
    "\n",
    "        if TM[i_][j_] == 0:\n",
    "            surprisingness = -np.log(TM[i_][j_] + 1e-4)\n",
    "        else:\n",
    "            surprisingness = -np.log(TM[i_][j_])\n",
    "            \n",
    "        return surprisingness\n",
    "    \n",
    "    def create_surprisingness_seqs(self,all_data=False):\n",
    "    \n",
    "        surprisingness_seqs = []\n",
    "        n = len(self.chord_seqs)\n",
    "        states = [x for x in range(96)]\n",
    "        \n",
    "        if all_data:\n",
    "            TM = self.create_transition_matrix_by_many_seqs().transpose()\n",
    "            \n",
    "        for i in tqdm(range(n)):\n",
    "            seq = self.chord_seqs[i]\n",
    "            N = len(seq)\n",
    "            T = range(1,N)\n",
    "            surprisingness_seq = [0]\n",
    "\n",
    "            if all_data:\n",
    "                for t in T:\n",
    "                    surprisingness = self.calculate_surprisingness(seq,t,TM)\n",
    "                    surprisingness_seq.append(surprisingness)\n",
    "                \n",
    "            else:\n",
    "                for t in T:\n",
    "                    TM = self.create_transition_matrix_by_one_seq(seq[:t]).transpose()\n",
    "                    self.M = [[0]*self.num_state for _ in range(self.num_state)]\n",
    "                    surprisingness = self.calculate_surprisingness(seq,t,TM)\n",
    "                    surprisingness_seq.append(surprisingness)\n",
    "                   \n",
    "            surprisingness_seqs.append(surprisingness_seq)\n",
    "\n",
    "        surprisingness_seqs = np.array(surprisingness_seqs)\n",
    "        surprisingness_seqs = np.expand_dims(surprisingness_seqs,axis=-1)\n",
    "\n",
    "        return surprisingness_seqs, TM"
   ]
  },
  {
   "cell_type": "code",
   "execution_count": 72,
   "metadata": {},
   "outputs": [
    {
     "name": "stderr",
     "output_type": "stream",
     "text": [
      "100%|██████████| 17430/17430 [00:53<00:00, 324.95it/s]\n"
     ]
    }
   ],
   "source": [
    "## Print data \n",
    "surprisingness_seqs, TM = markov_chain(chord_seqs).create_surprisingness_seqs(all_data = True)"
   ]
  },
  {
   "cell_type": "code",
   "execution_count": null,
   "metadata": {},
   "outputs": [],
   "source": [
    "\n"
   ]
  },
  {
   "cell_type": "code",
   "execution_count": 73,
   "metadata": {},
   "outputs": [
    {
     "data": {
      "text/plain": [
       "[<matplotlib.lines.Line2D at 0x7fb0198eaa10>]"
      ]
     },
     "execution_count": 73,
     "metadata": {},
     "output_type": "execute_result"
    },
    {
     "data": {
      "image/png": "[encoded data removed]",
      "text/plain": [
       "<Figure size 432x288 with 1 Axes>"
      ]
     },
     "metadata": {
      "needs_background": "light"
     },
     "output_type": "display_data"
    }
   ],
   "source": [
    "i = 0\n",
    "l = length[i]\n",
    "s = surprisingness_seqs[i].squeeze()\n",
    "fig, ax = plt.subplots()\n",
    "ax.plot(s[:l])"
   ]
  },
  {
   "cell_type": "code",
   "execution_count": 26,
   "metadata": {},
   "outputs": [],
   "source": [
    "surprisingness_seqs = np.load('./data/surprisingness.npy')"
   ]
  },
  {
   "cell_type": "code",
   "execution_count": 116,
   "metadata": {},
   "outputs": [
    {
     "data": {
      "text/plain": [
       "(17430, 272, 1)"
      ]
     },
     "execution_count": 116,
     "metadata": {},
     "output_type": "execute_result"
    }
   ],
   "source": [
    "surprisingness_seqs.shape"
   ]
  },
  {
   "cell_type": "code",
   "execution_count": 44,
   "metadata": {},
   "outputs": [
    {
     "data": {
      "text/plain": [
       "[<matplotlib.lines.Line2D at 0x7fb028165e90>]"
      ]
     },
     "execution_count": 44,
     "metadata": {},
     "output_type": "execute_result"
    },
    {
     "data": {
      "image/png": "[encoded data removed]",
      "text/plain": [
       "<Figure size 432x288 with 1 Axes>"
      ]
     },
     "metadata": {
      "needs_background": "light"
     },
     "output_type": "display_data"
    }
   ],
   "source": [
    "l = length[i]\n",
    "s = surprisingness_seqs[i]\n",
    "fig, ax = plt.subplots()\n",
    "ax.plot(s[:l])"
   ]
  },
  {
   "cell_type": "code",
   "execution_count": 33,
   "metadata": {},
   "outputs": [
    {
     "data": {
      "text/plain": [
       "array([[0, 0, 0, ..., 0, 0, 0],\n",
       "       [0, 0, 0, ..., 0, 0, 0],\n",
       "       [0, 0, 0, ..., 0, 0, 0],\n",
       "       ...,\n",
       "       [0, 0, 0, ..., 0, 0, 0],\n",
       "       [0, 0, 0, ..., 0, 0, 0],\n",
       "       [0, 0, 0, ..., 0, 0, 0]])"
      ]
     },
     "execution_count": 33,
     "metadata": {},
     "output_type": "execute_result"
    }
   ],
   "source": [
    "## Create Markov Chain for the whole data\n",
    "seq = chord_seqs[i]\n",
    "states = [x for x in range(96)]\n",
    "transition_matrix(seq,states).create()\n",
    "   \n",
    "  "
   ]
  },
  {
   "cell_type": "code",
   "execution_count": 55,
   "metadata": {},
   "outputs": [
    {
     "data": {
      "text/plain": [
       "array([[9.99983136e-01, 1.01443500e-05, 2.54629630e-01, ...,\n",
       "        2.05555556e-01, 7.41767215e-02, 1.04166748e-04],\n",
       "       [2.89193030e-46, 6.23823421e-01, 0.00000000e+00, ...,\n",
       "        4.62962964e-06, 0.00000000e+00, 3.68019755e-13],\n",
       "       [0.00000000e+00, 0.00000000e+00, 5.92592593e-01, ...,\n",
       "        0.00000000e+00, 0.00000000e+00, 0.00000000e+00],\n",
       "       ...,\n",
       "       [0.00000000e+00, 0.00000000e+00, 0.00000000e+00, ...,\n",
       "        7.58651391e-01, 0.00000000e+00, 0.00000000e+00],\n",
       "       [0.00000000e+00, 0.00000000e+00, 0.00000000e+00, ...,\n",
       "        0.00000000e+00, 6.37620621e-01, 0.00000000e+00],\n",
       "       [0.00000000e+00, 0.00000000e+00, 0.00000000e+00, ...,\n",
       "        0.00000000e+00, 0.00000000e+00, 4.59732487e-03]])"
      ]
     },
     "execution_count": 55,
     "metadata": {},
     "output_type": "execute_result"
    }
   ],
   "source": [
    "TM"
   ]
  },
  {
   "cell_type": "code",
   "execution_count": 66,
   "metadata": {},
   "outputs": [
    {
     "data": {
      "text/plain": [
       "array([[9.99983136e-01, 1.01443500e-05, 2.54629630e-01, ...,\n",
       "        2.05555556e-01, 7.41767215e-02, 1.04166748e-04],\n",
       "       [2.89193030e-46, 6.23823421e-01, 0.00000000e+00, ...,\n",
       "        4.62962964e-06, 0.00000000e+00, 3.68019755e-13],\n",
       "       [0.00000000e+00, 0.00000000e+00, 5.92592593e-01, ...,\n",
       "        0.00000000e+00, 0.00000000e+00, 0.00000000e+00],\n",
       "       ...,\n",
       "       [0.00000000e+00, 0.00000000e+00, 0.00000000e+00, ...,\n",
       "        7.58651391e-01, 0.00000000e+00, 0.00000000e+00],\n",
       "       [0.00000000e+00, 0.00000000e+00, 0.00000000e+00, ...,\n",
       "        0.00000000e+00, 6.37620621e-01, 0.00000000e+00],\n",
       "       [0.00000000e+00, 0.00000000e+00, 0.00000000e+00, ...,\n",
       "        0.00000000e+00, 0.00000000e+00, 4.59732487e-03]])"
      ]
     },
     "execution_count": 66,
     "metadata": {},
     "output_type": "execute_result"
    }
   ],
   "source": [
    "TM"
   ]
  },
  {
   "cell_type": "code",
   "execution_count": 89,
   "metadata": {},
   "outputs": [],
   "source": [
    "i = 20\n",
    "surprisingness_seqs_ = []\n",
    "# n = len(chord_seqs)\n",
    "n = len(chord_seqs[0])\n",
    "states = [x for x in range(96)]\n",
    "\n",
    "# for i in tqdm(range(n)):\n",
    "\n",
    "seq = chord_seqs[i]\n",
    "N = len(seq)\n",
    "T = range(1,N)\n",
    "surprisingness_seq = [0]\n",
    "\n",
    "for t in T:\n",
    "    \n",
    "    current = seq[t]\n",
    "    i_ = states.index(current)\n",
    "\n",
    "    previous = seq[t - 1]\n",
    "    j_ = states.index(previous)\n",
    "\n",
    "    if TM[i_][j_] == 0:\n",
    "            surprisingness = -np.log(TM[i_][j_] + 1e-4)\n",
    "    else:\n",
    "        surprisingness = -np.log(TM[i_][j_])\n",
    "    surprisingness_seq.append(surprisingness)\n",
    "\n",
    "surprisingness_seqs_.append(surprisingness_seq)\n",
    "surprisingness_seqs_ = np.array(surprisingness_seqs_)"
   ]
  },
  {
   "cell_type": "code",
   "execution_count": 81,
   "metadata": {},
   "outputs": [
    {
     "data": {
      "text/plain": [
       "(1, 272)"
      ]
     },
     "execution_count": 81,
     "metadata": {},
     "output_type": "execute_result"
    }
   ],
   "source": [
    "surprisingness_seqs_.shape"
   ]
  },
  {
   "cell_type": "code",
   "execution_count": 90,
   "metadata": {},
   "outputs": [
    {
     "data": {
      "text/plain": [
       "[<matplotlib.lines.Line2D at 0x7fb0116532d0>]"
      ]
     },
     "execution_count": 90,
     "metadata": {},
     "output_type": "execute_result"
    },
    {
     "data": {
      "image/png": "[encoded data removed]",
      "text/plain": [
       "<Figure size 432x288 with 1 Axes>"
      ]
     },
     "metadata": {
      "needs_background": "light"
     },
     "output_type": "display_data"
    }
   ],
   "source": [
    "l = length[i]\n",
    "s = surprisingness_seqs_[0]\n",
    "fig, ax = plt.subplots()\n",
    "ax.plot(s[:l])"
   ]
  },
  {
   "cell_type": "code",
   "execution_count": 71,
   "metadata": {},
   "outputs": [
    {
     "ename": "IndexError",
     "evalue": "index 1 is out of bounds for axis 0 with size 1",
     "output_type": "error",
     "traceback": [
      "\u001b[0;31m---------------------------------------------------------------------------\u001b[0m",
      "\u001b[0;31mIndexError\u001b[0m                                Traceback (most recent call last)",
      "\u001b[0;32m<ipython-input-71-7e602bba403b>\u001b[0m in \u001b[0;36m<module>\u001b[0;34m\u001b[0m\n\u001b[1;32m      1\u001b[0m \u001b[0mi\u001b[0m \u001b[0;34m=\u001b[0m \u001b[0;36m1\u001b[0m\u001b[0;34m\u001b[0m\u001b[0;34m\u001b[0m\u001b[0m\n\u001b[1;32m      2\u001b[0m \u001b[0ml\u001b[0m \u001b[0;34m=\u001b[0m \u001b[0mlength\u001b[0m\u001b[0;34m[\u001b[0m\u001b[0mi\u001b[0m\u001b[0;34m]\u001b[0m\u001b[0;34m\u001b[0m\u001b[0;34m\u001b[0m\u001b[0m\n\u001b[0;32m----> 3\u001b[0;31m \u001b[0ms\u001b[0m \u001b[0;34m=\u001b[0m \u001b[0msurprisingness_seqs\u001b[0m\u001b[0;34m[\u001b[0m\u001b[0mi\u001b[0m\u001b[0;34m]\u001b[0m\u001b[0;34m\u001b[0m\u001b[0;34m\u001b[0m\u001b[0m\n\u001b[0m\u001b[1;32m      4\u001b[0m \u001b[0mfig\u001b[0m\u001b[0;34m,\u001b[0m \u001b[0max\u001b[0m \u001b[0;34m=\u001b[0m \u001b[0mplt\u001b[0m\u001b[0;34m.\u001b[0m\u001b[0msubplots\u001b[0m\u001b[0;34m(\u001b[0m\u001b[0;34m)\u001b[0m\u001b[0;34m\u001b[0m\u001b[0;34m\u001b[0m\u001b[0m\n\u001b[1;32m      5\u001b[0m \u001b[0max\u001b[0m\u001b[0;34m.\u001b[0m\u001b[0mplot\u001b[0m\u001b[0;34m(\u001b[0m\u001b[0ms\u001b[0m\u001b[0;34m[\u001b[0m\u001b[0;34m:\u001b[0m\u001b[0ml\u001b[0m\u001b[0;34m]\u001b[0m\u001b[0;34m)\u001b[0m\u001b[0;34m\u001b[0m\u001b[0;34m\u001b[0m\u001b[0m\n",
      "\u001b[0;31mIndexError\u001b[0m: index 1 is out of bounds for axis 0 with size 1"
     ]
    }
   ],
   "source": [
    "i = 1\n",
    "l = length[i]\n",
    "s = surprisingness_seqs[i]\n",
    "fig, ax = plt.subplots()\n",
    "ax.plot(s[:l])"
   ]
  },
  {
   "cell_type": "code",
   "execution_count": null,
   "metadata": {},
   "outputs": [],
   "source": [
    "TM"
   ]
  },
  {
   "cell_type": "code",
   "execution_count": null,
   "metadata": {},
   "outputs": [],
   "source": []
  }
 ],
 "metadata": {
  "kernelspec": {
   "display_name": "Python 3",
   "language": "python",
   "name": "python3"
  },
  "language_info": {
   "codemirror_mode": {
    "name": "ipython",
    "version": 3
   },
   "file_extension": ".py",
   "mimetype": "text/x-python",
   "name": "python",
   "nbconvert_exporter": "python",
   "pygments_lexer": "ipython3",
   "version": "3.7.9"
  }
 },
 "nbformat": 4,
 "nbformat_minor": 4
}
