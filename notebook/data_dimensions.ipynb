{
 "cells": [
  {
   "cell_type": "code",
   "execution_count": 1,
   "metadata": {},
   "outputs": [],
   "source": [
    "import numpy as np\n",
    "import pypianoroll as pr\n",
    "import pickle"
   ]
  },
  {
   "cell_type": "code",
   "execution_count": 3,
   "metadata": {},
   "outputs": [],
   "source": [
    "import os\n",
    "os.chdir('..')"
   ]
  },
  {
   "cell_type": "code",
   "execution_count": 4,
   "metadata": {},
   "outputs": [
    {
     "data": {
      "text/plain": [
       "'/mnt/md1/user_victor/automatic_melody_harmonization'"
      ]
     },
     "execution_count": 4,
     "metadata": {},
     "output_type": "execute_result"
    }
   ],
   "source": [
    "pwd"
   ]
  },
  {
   "cell_type": "code",
   "execution_count": 5,
   "metadata": {},
   "outputs": [],
   "source": [
    "melody = np.load('./melody_baseline.npy')\n",
    "chord = np.load('./number_96.npy')\n",
    "chord_onehot = np.load('./onehot_96.npy')\n",
    "length = np.load('./length.npy')\n",
    "weight_chord = np.load('./weight_chord.npy')\n",
    "\n",
    "melody_data = np.load('./melody_data.npy')\n",
    "chord_groundtruth = np.load('./chord_groundtruth.npy')\n",
    "\n",
    "f = open('./tempos', 'rb')\n",
    "tempos = pickle.load(f)\n",
    "f.close()\n",
    "f = open('./downbeats', 'rb')\n",
    "downbeats = pickle.load(f)\n",
    "f.close()"
   ]
  },
  {
   "cell_type": "code",
   "execution_count": 48,
   "metadata": {},
   "outputs": [
    {
     "name": "stdout",
     "output_type": "stream",
     "text": [
      "Data from npz:\n",
      "melody_data shape (17430, 13056, 128)\n",
      "chord_groundtruth shape (17430, 272, 128)\n",
      "length shape (17430,)\n",
      "tempos shape 17430\n",
      "downbeats shape 17430\n",
      "\n",
      "Data to one hot:\n",
      "melody shape (17430, 272, 576)\n",
      "chord_onehot shape (17430, 272, 96)\n",
      "weight_chord shape (96,)\n",
      "Data to midi number:\n",
      "chord shape (17430, 272, 1)\n"
     ]
    }
   ],
   "source": [
    "print('Data from npz:')\n",
    "print('melody_data shape',melody_data.shape)\n",
    "print('chord_groundtruth shape',chord_groundtruth.shape)   # 272 為每 2 beats 取出來的 chord\n",
    "print('length shape',length.shape)\n",
    "print('tempos shape',len(tempos))\n",
    "print('downbeats shape',len(downbeats))\n",
    "print()\n",
    "print('Data to one hot:')\n",
    "print('melody shape',melody.shape) \n",
    "print('chord_onehot shape',chord_onehot.shape)\n",
    "print('weight_chord shape',weight_chord.shape)\n",
    "print('Data to midi number:')\n",
    "print('chord shape',chord.shape)\n"
   ]
  },
  {
   "cell_type": "code",
   "execution_count": 62,
   "metadata": {},
   "outputs": [
    {
     "data": {
      "text/plain": [
       "array([[0, 0, 0, ..., 0, 0, 0],\n",
       "       [0, 0, 1, ..., 0, 0, 0],\n",
       "       [0, 0, 1, ..., 0, 0, 0],\n",
       "       ...,\n",
       "       [1, 0, 0, ..., 0, 0, 0],\n",
       "       [0, 0, 0, ..., 0, 0, 0],\n",
       "       [0, 0, 0, ..., 0, 0, 0]])"
      ]
     },
     "execution_count": 62,
     "metadata": {},
     "output_type": "execute_result"
    }
   ],
   "source": [
    "melody[0][:10,:]"
   ]
  },
  {
   "cell_type": "code",
   "execution_count": 25,
   "metadata": {},
   "outputs": [
    {
     "data": {
      "text/plain": [
       "792"
      ]
     },
     "execution_count": 25,
     "metadata": {},
     "output_type": "execute_result"
    }
   ],
   "source": [
    "tempos[0].shape[0]"
   ]
  },
  {
   "cell_type": "code",
   "execution_count": null,
   "metadata": {},
   "outputs": [],
   "source": []
  },
  {
   "cell_type": "code",
   "execution_count": 7,
   "metadata": {},
   "outputs": [],
   "source": [
    "path = '../lead-sheet-dataset/datasets/pianoroll/x/x-ambassadors/unsteady/intro.npz'\n",
    "# data = np.load(path)\n",
    "data = pr.Multitrack(path)"
   ]
  },
  {
   "cell_type": "raw",
   "metadata": {},
   "source": [
    "Data info in a npz file"
   ]
  },
  {
   "cell_type": "code",
   "execution_count": 38,
   "metadata": {},
   "outputs": [
    {
     "name": "stdout",
     "output_type": "stream",
     "text": [
      "name: unknown\n",
      "resolution: 24\n",
      "downbeat shape: (408,)\n",
      "tempo: 58.00009860016762\n",
      "melody shape: (408, 128)\n",
      "chord shape: (408, 128)\n"
     ]
    }
   ],
   "source": [
    "print('name:',data.name)\n",
    "print('resolution:',data.beat_resolution)\n",
    "print('downbeat shape:',data.downbeat.shape)\n",
    "print('tempo:',data.tempo[0])\n",
    "print('melody shape:',data.tracks[0].pianoroll.shape)\n",
    "print('chord shape:',data.tracks[1].pianoroll.shape)"
   ]
  },
  {
   "cell_type": "code",
   "execution_count": 1,
   "metadata": {},
   "outputs": [],
   "source": [
    "a = None"
   ]
  },
  {
   "cell_type": "code",
   "execution_count": 7,
   "metadata": {},
   "outputs": [
    {
     "data": {
      "text/plain": [
       "False"
      ]
     },
     "execution_count": 7,
     "metadata": {},
     "output_type": "execute_result"
    }
   ],
   "source": [
    "a is not None"
   ]
  },
  {
   "cell_type": "code",
   "execution_count": 10,
   "metadata": {},
   "outputs": [
    {
     "data": {
      "text/plain": [
       "array([0])"
      ]
     },
     "execution_count": 10,
     "metadata": {},
     "output_type": "execute_result"
    }
   ],
   "source": [
    "np.asarray([0])"
   ]
  },
  {
   "cell_type": "code",
   "execution_count": 11,
   "metadata": {},
   "outputs": [
    {
     "data": {
      "text/plain": [
       "array([0])"
      ]
     },
     "execution_count": 11,
     "metadata": {},
     "output_type": "execute_result"
    }
   ],
   "source": [
    "np.array([0])"
   ]
  },
  {
   "cell_type": "code",
   "execution_count": 16,
   "metadata": {},
   "outputs": [
    {
     "data": {
      "text/plain": [
       "array([0, 0, 1, 2, 3, 4, 5, 6, 6, 6])"
      ]
     },
     "execution_count": 16,
     "metadata": {},
     "output_type": "execute_result"
    }
   ],
   "source": [
    "a = [1, 2, 3, 4, 5]\n",
    "np.pad(a, (2, 3), 'constant', constant_values=(0, 6))"
   ]
  },
  {
   "cell_type": "code",
   "execution_count": 17,
   "metadata": {},
   "outputs": [
    {
     "data": {
      "text/plain": [
       "[1, 2, 3, 4, 5]"
      ]
     },
     "execution_count": 17,
     "metadata": {},
     "output_type": "execute_result"
    }
   ],
   "source": [
    "a"
   ]
  },
  {
   "cell_type": "code",
   "execution_count": null,
   "metadata": {},
   "outputs": [],
   "source": []
  }
 ],
 "metadata": {
  "kernelspec": {
   "display_name": "Python 3",
   "language": "python",
   "name": "python3"
  },
  "language_info": {
   "codemirror_mode": {
    "name": "ipython",
    "version": 3
   },
   "file_extension": ".py",
   "mimetype": "text/x-python",
   "name": "python",
   "nbconvert_exporter": "python",
   "pygments_lexer": "ipython3",
   "version": "3.7.9"
  }
 },
 "nbformat": 4,
 "nbformat_minor": 4
}
