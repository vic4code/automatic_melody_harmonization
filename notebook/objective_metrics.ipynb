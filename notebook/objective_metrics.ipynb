{
 "cells": [
  {
   "cell_type": "code",
   "execution_count": 1,
   "metadata": {},
   "outputs": [],
   "source": [
    "import os\n",
    "os.chdir('..')"
   ]
  },
  {
   "cell_type": "markdown",
   "metadata": {},
   "source": [
    "pwd"
   ]
  },
  {
   "cell_type": "code",
   "execution_count": null,
   "metadata": {},
   "outputs": [],
   "source": [
    "import numpy as np"
   ]
  },
  {
   "cell_type": "code",
   "execution_count": null,
   "metadata": {},
   "outputs": [],
   "source": [
    "# chord histogram entropy\n",
    "def CHE_and_CC(chord_sequence, chord_num = 96):\n",
    "    chord_index = np.argmax(chord_sequence, axis=1)\n",
    "\n",
    "    chord_statistics = np.asarray([0 for i in range(chord_num)])\n",
    "    for i in range(chord_index.shape[0]):\n",
    "        chord_statistics[chord_index[i]] += 1\n",
    "\n",
    "    CC = 0\n",
    "    for i in chord_statistics:\n",
    "        if i != 0:\n",
    "            CC += 1\n",
    "    sequence_length = chord_index.shape[0]\n",
    "    chord_statistics = chord_statistics / sequence_length\n",
    "    \n",
    "    # calculate entropy\n",
    "    H = 0\n",
    "    H = sum([H + - p_i * np.log(p_i+1e-6) for p_i in chord_statistics])\n",
    "\n",
    "    return H, CC\n"
   ]
  },
  {
   "cell_type": "code",
   "execution_count": null,
   "metadata": {},
   "outputs": [],
   "source": []
  }
 ],
 "metadata": {
  "kernelspec": {
   "display_name": "Python 3",
   "language": "python",
   "name": "python3"
  },
  "language_info": {
   "codemirror_mode": {
    "name": "ipython",
    "version": 3
   },
   "file_extension": ".py",
   "mimetype": "text/x-python",
   "name": "python",
   "nbconvert_exporter": "python",
   "pygments_lexer": "ipython3",
   "version": "3.7.9"
  }
 },
 "nbformat": 4,
 "nbformat_minor": 4
}
