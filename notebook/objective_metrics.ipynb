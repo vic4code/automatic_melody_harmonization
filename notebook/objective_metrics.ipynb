{
 "cells": [
  {
   "cell_type": "code",
   "execution_count": 1,
   "metadata": {},
   "outputs": [],
   "source": [
    "import os\n",
    "os.chdir('..')"
   ]
  },
  {
   "cell_type": "code",
   "execution_count": 37,
   "metadata": {},
   "outputs": [
    {
     "data": {
      "text/plain": [
       "'/mnt/md1/user_victor/automatic_melody_harmonization'"
      ]
     },
     "execution_count": 37,
     "metadata": {},
     "output_type": "execute_result"
    }
   ],
   "source": [
    "pwd"
   ]
  },
  {
   "cell_type": "code",
   "execution_count": 38,
   "metadata": {},
   "outputs": [],
   "source": [
    "import numpy as np\n",
    "import torch \n",
    "from tonal import tonal_centroid, chord482note, chord962note, note2number\n",
    "import matplotlib.pyplot as plt\n",
    "from tqdm import tqdm"
   ]
  },
  {
   "cell_type": "code",
   "execution_count": 39,
   "metadata": {},
   "outputs": [],
   "source": [
    "melody = np.load('./data/melody_baseline.npy')\n",
    "chord = np.load('./data/number_96.npy')\n",
    "chord_onehot = np.load('./data/onehot_96.npy')\n",
    "length = np.load('./data/length.npy')"
   ]
  },
  {
   "cell_type": "code",
   "execution_count": 5,
   "metadata": {},
   "outputs": [
    {
     "data": {
      "text/plain": [
       "array([[0, 0, 0, ..., 0, 0, 0],\n",
       "       [0, 0, 0, ..., 0, 0, 0],\n",
       "       [1, 0, 0, ..., 0, 0, 0],\n",
       "       ...,\n",
       "       [0, 0, 0, ..., 0, 0, 0],\n",
       "       [0, 0, 0, ..., 0, 0, 0],\n",
       "       [0, 0, 0, ..., 0, 0, 0]])"
      ]
     },
     "execution_count": 5,
     "metadata": {},
     "output_type": "execute_result"
    }
   ],
   "source": [
    "chord_onehot[0]"
   ]
  },
  {
   "cell_type": "code",
   "execution_count": null,
   "metadata": {},
   "outputs": [],
   "source": [
    "def my_argmax(a):\n",
    "    rows = np.where(a == a.max(axis=1)[:, None])[0]\n",
    "    rows_multiple_max = rows[:-1][rows[:-1] == rows[1:]]\n",
    "    my_argmax = a.argmax(axis=1)\n",
    "    my_argmax[rows_multiple_max] = -1\n",
    "    return my_argmax\n",
    "\n",
    "# chord histogram entropy\n",
    "def CHE_and_CC(chord_sequence, chord_num = 96):\n",
    "    chord_index = np.argmax(chord_sequence, axis=1)\n",
    "\n",
    "    chord_statistics = np.asarray([0 for i in range(chord_num)])\n",
    "    for i in range(chord_index.shape[0]):\n",
    "        chord_statistics[chord_index[i]] += 1\n",
    "\n",
    "    CC = 0\n",
    "    for i in chord_statistics:\n",
    "        if i != 0:\n",
    "            CC += 1\n",
    "    sequence_length = chord_index.shape[0]\n",
    "    chord_statistics = chord_statistics / sequence_length\n",
    "    \n",
    "    # calculate entropy\n",
    "    H = 0\n",
    "    H = sum([H + - p_i * np.log(p_i+1e-6) for p_i in chord_statistics])\n",
    "\n",
    "    return H, CC\n",
    "\n",
    "# chord tonal distance\n",
    "def CTD(chord_sequence, chord_num = 96):\n",
    "    chord_index = np.argmax(chord_sequence, axis=1)\n",
    "    chord_note = []\n",
    "    if chord_num == 96:\n",
    "        for i in chord_index:\n",
    "            chord_note.append(note2number(chord962note(i)))\n",
    "    else:\n",
    "        for i in chord_index:\n",
    "            chord_note.append(note2number(chord482note(i)))\n",
    "\n",
    "    y = 0\n",
    "\n",
    "    for n in range(len(chord_note) - 1):\n",
    "        y += np.sqrt(np.sum((np.asarray(tonal_centroid(chord_note[n+1])) - np.asarray(tonal_centroid(chord_note[n]))) ** 2))\n",
    "\n",
    "    return y / (len(chord_note) - 1)\n",
    "\n",
    "# Chord tone to non-chord tone ratio\n",
    "def CTnCTR(melody_sequence, chord_sequence, chord_num = 96):\n",
    "    chord_index = np.argmax(chord_sequence, axis=1)\n",
    "    chord_note = []\n",
    "    if chord_num == 96:\n",
    "        for i in chord_index:\n",
    "            chord_note.append(note2number(chord962note(i)))\n",
    "    else:\n",
    "        for i in chord_index:\n",
    "            chord_note.append(note2number(chord482note(i)))\n",
    "\n",
    "    melody_sequence = melody_sequence.reshape((melody_sequence.shape[0]*48, 12))\n",
    "    melody_index = my_argmax(melody_sequence)\n",
    "    melody_index = melody_index.reshape((-1, 48))\n",
    "\n",
    "    c = 0\n",
    "    p = 0\n",
    "    n = 0\n",
    "    for melody_m, chord_m in zip(melody_index, chord_note):\n",
    "        for i in range(len(melody_m)):\n",
    "            m = melody_m[i]\n",
    "            if m != -1:\n",
    "                if m in chord_m:\n",
    "                    c += 1\n",
    "                else:\n",
    "                    n += 1\n",
    "                    for j in range(i, len(melody_m)):\n",
    "                        if melody_m[j] != -1:\n",
    "                            if melody_m[j] != melody_m[i]:\n",
    "                                if melody_m[j] in chord_m and abs(melody_m[i]-melody_m[j]) <= 2:\n",
    "                                    p += 1\n",
    "                                break\n",
    "    if (c+n) == 0:\n",
    "        return 0\n",
    "    return (c+p)/(c+n)\n",
    "\n",
    "\n",
    "# Pitch consonance score\n",
    "def PCS(melody_sequence,chord_sequence, chord_num = 96):\n",
    "    chord_index = np.argmax(chord_sequence, axis=1)\n",
    "    chord_note = []\n",
    "    if chord_num == 96:\n",
    "        for i in chord_index:\n",
    "            chord_note.append(note2number(chord962note(i)))\n",
    "    else:\n",
    "        for i in chord_index:\n",
    "            chord_note.append(note2number(chord482note(i)))\n",
    "\n",
    "    melody_sequence = melody_sequence.reshape((melody_sequence.shape[0] * 48, 12))\n",
    "    melody_index = my_argmax(melody_sequence)\n",
    "    melody_index = melody_index.reshape((-1, 48))\n",
    "\n",
    "    score = 0\n",
    "    count = 0\n",
    "    for melody_m, chord_m in zip(melody_index, chord_note):\n",
    "        for m in melody_m:\n",
    "            if m != -1:\n",
    "                for c in chord_m:\n",
    "                    # unison, maj, minor 3rd, perfect 5th, maj, minor 6,\n",
    "                    if abs(m - c) == 0 or abs(m - c) == 3 or abs(m - c) == 4 or abs(m - c) == 7 or abs(m - c) == 8 or abs(m - c) == 9 or abs(m - c) == 5:\n",
    "                        if abs(m - c) == 5:\n",
    "                            count += 1\n",
    "                        else:\n",
    "                            count += 1\n",
    "                            score += 1\n",
    "                    else:\n",
    "                        count += 1\n",
    "                        score += -1\n",
    "    if count == 0:\n",
    "        return 0\n",
    "    return score/count\n",
    "\n",
    "# melody_sequence-chord tonal distance\n",
    "\n",
    "def MCTD(melody_sequence, chord_sequence, chord_num = 96):\n",
    "    chord_index = np.argmax(chord_sequence, axis=1)\n",
    "    chord_note = []\n",
    "    if chord_num == 96:\n",
    "        for i in chord_index:\n",
    "            chord_note.append(note2number(chord962note(i)))\n",
    "    else:\n",
    "        for i in chord_index:\n",
    "            chord_note.append(note2number(chord482note(i)))\n",
    "\n",
    "    melody_sequence = melody_sequence.reshape((melody_sequence.shape[0] * 48, 12))\n",
    "    melody_index = my_argmax(melody_sequence)\n",
    "    melody_index = melody_index.reshape((-1, 48))\n",
    "\n",
    "    y = 0\n",
    "    count = 0\n",
    "    for melody_m, chord_m in zip(melody_index, chord_note):\n",
    "        for m in melody_m:\n",
    "            if m != -1:\n",
    "                y += np.sqrt(np.sum((np.asarray(tonal_centroid([m])) - np.asarray(tonal_centroid(chord_m)))) ** 2)\n",
    "                count += 1\n",
    "    if count == 0:\n",
    "        return 0\n",
    "    return y/count"
   ]
  },
  {
   "cell_type": "code",
   "execution_count": null,
   "metadata": {},
   "outputs": [],
   "source": []
  },
  {
   "cell_type": "code",
   "execution_count": 27,
   "metadata": {},
   "outputs": [
    {
     "name": "stderr",
     "output_type": "stream",
     "text": [
      "100%|██████████| 17430/17430 [00:24<00:00, 711.66it/s]\n"
     ]
    }
   ],
   "source": [
    "i = 11000\n",
    "tonal_distances = []\n",
    "\n",
    "for i in tqdm(range(len(chord_onehot))):\n",
    "    chord_seq = chord_onehot[i][:length[i]]\n",
    "\n",
    "    chord_index = np.argmax(chord_seq, axis=1)\n",
    "    # print('chord_index',chord_index)\n",
    "\n",
    "    chord_note = []\n",
    "    tonal_distance_by_seq = [0]\n",
    "\n",
    "    for i in chord_index:\n",
    "        chord_label = chord962note(i)\n",
    "        chord_note.append(note2number(chord962note(i)))\n",
    "\n",
    "    #     print('chord_label',chord_label)\n",
    "    #     print('chord_note',note2number(chord962note(i)))\n",
    "\n",
    "    for n in range(len(chord_note) - 1):\n",
    "        tonal_distance = np.sqrt(np.sum((np.asarray(tonal_centroid(chord_note[n+1])) - np.asarray(tonal_centroid(chord_note[n]))) ** 2))\n",
    "        tonal_distance_by_seq.append(tonal_distance)\n",
    "    #     print(tonal_distance)\n",
    "    \n",
    "    tonal_distances.append(np.asarray(tonal_distance_by_seq))\n",
    "#     fig, ax = plt.subplots()\n",
    "#     ax.plot(tonal_distance_by_seq)\n",
    "\n",
    "# tonal_distances = np.asarray(tonal_distances)\n",
    "\n"
   ]
  },
  {
   "cell_type": "code",
   "execution_count": 36,
   "metadata": {},
   "outputs": [
    {
     "name": "stdout",
     "output_type": "stream",
     "text": [
      "chord_label ['C', 'E', 'G']\n",
      "chord_note [0, 4, 7]\n",
      "chord_label ['C', 'E', 'G']\n",
      "chord_note [0, 4, 7]\n",
      "chord_label ['F', 'A', 'C']\n",
      "chord_note [5, 9, 0]\n",
      "chord_label ['F', 'A', 'C']\n",
      "chord_note [5, 9, 0]\n",
      "chord_label ['C', 'E', 'G']\n",
      "chord_note [0, 4, 7]\n",
      "chord_label ['C', 'E', 'G']\n",
      "chord_note [0, 4, 7]\n",
      "chord_label ['F', 'A', 'C']\n",
      "chord_note [5, 9, 0]\n",
      "chord_label ['F', 'A', 'C']\n",
      "chord_note [5, 9, 0]\n",
      "chord_label ['C', 'E', 'G']\n",
      "chord_note [0, 4, 7]\n",
      "chord_label ['C', 'E', 'G']\n",
      "chord_note [0, 4, 7]\n",
      "chord_label ['F', 'A', 'C']\n",
      "chord_note [5, 9, 0]\n",
      "chord_label ['F', 'A', 'C']\n",
      "chord_note [5, 9, 0]\n",
      "chord_label ['C', 'E', 'G']\n",
      "chord_note [0, 4, 7]\n",
      "chord_label ['C', 'E', 'G']\n",
      "chord_note [0, 4, 7]\n",
      "chord_label ['G', 'B', 'D']\n",
      "chord_note [7, 11, 2]\n",
      "chord_label ['G', 'B', 'D']\n",
      "chord_note [7, 11, 2]\n",
      "chord_label ['G', 'B', 'D']\n",
      "chord_note [7, 11, 2]\n",
      "chord_label ['G', 'B', 'D']\n",
      "chord_note [7, 11, 2]\n",
      "chord_label ['C', 'E', 'G']\n",
      "chord_note [0, 4, 7]\n"
     ]
    },
    {
     "data": {
      "text/plain": [
       "[<matplotlib.lines.Line2D at 0x7fea833dd450>]"
      ]
     },
     "execution_count": 36,
     "metadata": {},
     "output_type": "execute_result"
    },
    {
     "data": {
      "image/png": "[encoded data removed]",
      "text/plain": [
       "<Figure size 432x288 with 1 Axes>"
      ]
     },
     "metadata": {
      "needs_background": "light"
     },
     "output_type": "display_data"
    }
   ],
   "source": [
    "i = 1\n",
    "tonal_distances = []\n",
    "chord_seq = chord_onehot[i][:length[i]]\n",
    "chord_index = np.argmax(chord_seq, axis=1)\n",
    "# print('chord_index',chord_index)\n",
    "\n",
    "chord_note = []\n",
    "tonal_distance_by_seq = [0]\n",
    "\n",
    "for i in chord_index:\n",
    "    chord_label = chord962note(i)\n",
    "    chord_note.append(note2number(chord962note(i)))\n",
    "\n",
    "    print('chord_label',chord_label)\n",
    "    print('chord_note',note2number(chord962note(i)))\n",
    "\n",
    "for n in range(len(chord_note) - 1):\n",
    "    tonal_distance = np.sqrt(np.sum((np.asarray(tonal_centroid(chord_note[n+1])) - np.asarray(tonal_centroid(chord_note[n]))) ** 2))\n",
    "    tonal_distance_by_seq.append(tonal_distance)\n",
    "#     print(tonal_distance)\n",
    "\n",
    "tonal_distances.append(np.asarray(tonal_distance_by_seq))\n",
    "fig, ax = plt.subplots()\n",
    "ax.plot(tonal_distance_by_seq)\n",
    "\n",
    "# tonal_distances = np.asarray(tonal_distances)\n"
   ]
  },
  {
   "cell_type": "code",
   "execution_count": 18,
   "metadata": {},
   "outputs": [
    {
     "data": {
      "text/plain": [
       "2"
      ]
     },
     "execution_count": 18,
     "metadata": {},
     "output_type": "execute_result"
    }
   ],
   "source": [
    "len(tonal_distances)"
   ]
  },
  {
   "cell_type": "code",
   "execution_count": 28,
   "metadata": {},
   "outputs": [
    {
     "name": "stderr",
     "output_type": "stream",
     "text": [
      "100%|██████████| 17430/17430 [00:00<00:00, 24976.16it/s]\n"
     ]
    }
   ],
   "source": [
    "for i in tqdm(range(len(chord_onehot))):\n",
    "    tonal_distances[i] = np.pad(tonal_distances[i], (0, 272 - tonal_distances[i].shape[0]), 'constant', constant_values = (0, 0))\n",
    "tonal_distances = np.asarray(tonal_distances)\n"
   ]
  },
  {
   "cell_type": "code",
   "execution_count": 33,
   "metadata": {},
   "outputs": [
    {
     "data": {
      "text/plain": [
       "(17430, 272, 1)"
      ]
     },
     "execution_count": 33,
     "metadata": {},
     "output_type": "execute_result"
    }
   ],
   "source": [
    "tonal_distances = np.expand_dims(tonal_distances, axis=2)\n",
    "tonal_distances.shape"
   ]
  },
  {
   "cell_type": "code",
   "execution_count": 34,
   "metadata": {},
   "outputs": [],
   "source": [
    "np.save('./data/CTD_framewise',tonal_distances)"
   ]
  },
  {
   "cell_type": "code",
   "execution_count": null,
   "metadata": {},
   "outputs": [],
   "source": [
    "CTD = np.load('./data/CTD_framewise')"
   ]
  },
  {
   "cell_type": "code",
   "execution_count": null,
   "metadata": {},
   "outputs": [],
   "source": []
  }
 ],
 "metadata": {
  "kernelspec": {
   "display_name": "Python 3",
   "language": "python",
   "name": "python3"
  },
  "language_info": {
   "codemirror_mode": {
    "name": "ipython",
    "version": 3
   },
   "file_extension": ".py",
   "mimetype": "text/x-python",
   "name": "python",
   "nbconvert_exporter": "python",
   "pygments_lexer": "ipython3",
   "version": "3.7.9"
  }
 },
 "nbformat": 4,
 "nbformat_minor": 4
}
